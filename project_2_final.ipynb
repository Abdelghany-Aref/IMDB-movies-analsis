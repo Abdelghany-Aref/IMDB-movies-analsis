{
 "cells": [
  {
   "cell_type": "markdown",
   "id": "6ea757c5",
   "metadata": {},
   "source": [
    "# dataset description\n",
    "this data set contains information about 10,000 movies collected from The Movie Database (TMDB), including user ratings and revenue. it contains over 10 thousand movies with 22 different attributes for each column are \n",
    "- id --> the movie ID in this data set\n",
    "- imdb_id --> the movie ID on the site\n",
    "- popularity -->  the popularity number of the movie\n",
    "- budget --> the budget of the movie in US dollars (it's publishing year dollar value)\n",
    "- revenue --> the revenue that the movie returned in US dollars (it's publishing year dollar value)\n",
    "- original_title --> the movie title\n",
    "- cast --> the crew in that movie\n",
    "- homepage --> the link of the home page site for that movie\n",
    "- director --> the movie director name\n",
    "- tagline --> the movie tag line in the poster \n",
    "- keywords --> the keywords used in the search of that movie \n",
    "- overview --> a quick over view about the movie \n",
    "- runtime --> the movie run time duration\n",
    "- genres --> the genres of the movie\n",
    "- production_companies --> the production company of the movie \n",
    "- release_date --> the date of release \n",
    "- vote_count --> the count of voting for that movie on IMDB\n",
    "- vote_average --> the average vote for the movie on IMDB\n",
    "- release_year --> the year of release\n",
    "- budget_adj -->the budget of the movie in US Dollar (2010)\n",
    "- revenue_adj --> the revenue of the movie in US Dollar (2010)\n"
   ]
  },
  {
   "cell_type": "markdown",
   "id": "b4fc45cd",
   "metadata": {},
   "source": [
    "# questions we need to answer using this data set\n",
    "- what are most popular genres from year to year \n",
    "- what are the factors that determine the success or failure of a movie\n"
   ]
  },
  {
   "cell_type": "markdown",
   "id": "8f62f5e2",
   "metadata": {},
   "source": [
    "## setting the importations"
   ]
  },
  {
   "cell_type": "code",
   "execution_count": 1,
   "id": "e1218f24",
   "metadata": {},
   "outputs": [],
   "source": [
    "import pandas as pd\n",
    "import numpy as np\n",
    "from matplotlib import pyplot as plt \n",
    "%matplotlib inline\n",
    "plt.style.use('seaborn')\n",
    "pd.set_option('display.max_columns', 100)\n"
   ]
  },
  {
   "cell_type": "markdown",
   "id": "86824416",
   "metadata": {},
   "source": [
    "## creating the function that we will use throughout the project "
   ]
  },
  {
   "cell_type": "code",
   "execution_count": 2,
   "id": "ce6df681",
   "metadata": {},
   "outputs": [],
   "source": [
    "def exploder(df, col_name, sep=None): \n",
    "    \"\"\" this function is used when a row has multiple data in the same columns so we use this function to split those\n",
    "        data into multiple rows when splitting all data in the other columns are the same ... the column that had multiple data \n",
    "        is the col that changed each row and the number of rows are correspondent to the number of data were in that column\"\"\"\n",
    "    df = df.assign(var=df[col_name].str.split(sep)).explode('var') # here we explode the data in a new col named var\n",
    "    return df.drop(columns=col_name).rename(columns={'var': col_name})# before returning the df we drop the original column that had the multiple data \n",
    "                                                                      # and name the col var by the same name of the column that had multiple data \n",
    "\n",
    "    "
   ]
  },
  {
   "cell_type": "code",
   "execution_count": 3,
   "id": "b0ce0d83",
   "metadata": {},
   "outputs": [],
   "source": [
    "def get_composed_num(high_rev_df, low_rev_df, col_name, sep=None): #used to get the number of extinct values that exists in a specific  column in both data frames\n",
    "    if sep is not None: # here we use the explode function if the separation character value was passed\n",
    "        high_rev_df = exploder(high_rev_df, col_name, sep)\n",
    "        low_rev_df = exploder(low_rev_df, col_name, sep)\n",
    "    cond = high_rev_df[col_name].isin(low_rev_df[col_name])\n",
    "    return  len(high_rev_df[cond][col_name].dropna().unique()) #we return the len of the non NA unique items that exists in both df on a specific col\n",
    "\n"
   ]
  },
  {
   "cell_type": "code",
   "execution_count": 4,
   "id": "044d5f2c",
   "metadata": {},
   "outputs": [],
   "source": [
    "def get_total_num(df, col_name, sep=None): # a function that is used to get the total number of a specific thing\n",
    "    if sep is not None: # here we use the explode function if the separation character value was passed\n",
    "        df = exploder(df, col_name, sep)\n",
    "    return len(df[col_name].dropna().unique())\n",
    "\n"
   ]
  },
  {
   "cell_type": "code",
   "execution_count": 5,
   "id": "2f12472f",
   "metadata": {},
   "outputs": [],
   "source": [
    "def ratio(part, whole): #returns ratio between two things\n",
    "    return round(((part/whole))*100, 1)\n",
    "\n"
   ]
  },
  {
   "cell_type": "code",
   "execution_count": 6,
   "id": "df308bfa",
   "metadata": {},
   "outputs": [],
   "source": [
    "def spliting_high_low(df, col_name, num=None): # function the is used to split the data frame into two data frames whether based \n",
    "    if num is None:                            # on a specific number given or the mean of the column\n",
    "        high_df = df[df[col_name] >= df[col_name].mean()]\n",
    "        low_df = df[df[col_name] < df[col_name].mean()]\n",
    "    else:\n",
    "        high_df = df[df[col_name] >= num]\n",
    "        low_df = df[df[col_name] < num]\n",
    "    return [high_df, low_df]"
   ]
  },
  {
   "cell_type": "code",
   "execution_count": 7,
   "id": "f2147789",
   "metadata": {},
   "outputs": [],
   "source": [
    "def plot_pie(percentage, labels, colors_=None, title_=None): #function that is used for plotting a pie chart \n",
    "    plt.pie(percentage, labels=labels, autopct='%1.1f%%', shadow=True, wedgeprops = {'edgecolor': 'black'},\n",
    "            colors=colors_)\n",
    "    if title_ is not None:\n",
    "        plt.title(title_)\n",
    "    plt.show()    "
   ]
  },
  {
   "cell_type": "markdown",
   "id": "54950a3a",
   "metadata": {},
   "source": [
    "## reading the file and checking the data"
   ]
  },
  {
   "cell_type": "code",
   "execution_count": 8,
   "id": "44e184ae",
   "metadata": {},
   "outputs": [],
   "source": [
    "df = pd.read_csv('tmdb-movies.csv') #reading the data frame\n"
   ]
  },
  {
   "cell_type": "code",
   "execution_count": 9,
   "id": "4e3c4915",
   "metadata": {},
   "outputs": [
    {
     "data": {
      "text/html": [
       "<div>\n",
       "<style scoped>\n",
       "    .dataframe tbody tr th:only-of-type {\n",
       "        vertical-align: middle;\n",
       "    }\n",
       "\n",
       "    .dataframe tbody tr th {\n",
       "        vertical-align: top;\n",
       "    }\n",
       "\n",
       "    .dataframe thead th {\n",
       "        text-align: right;\n",
       "    }\n",
       "</style>\n",
       "<table border=\"1\" class=\"dataframe\">\n",
       "  <thead>\n",
       "    <tr style=\"text-align: right;\">\n",
       "      <th></th>\n",
       "      <th>id</th>\n",
       "      <th>imdb_id</th>\n",
       "      <th>popularity</th>\n",
       "      <th>budget</th>\n",
       "      <th>revenue</th>\n",
       "      <th>original_title</th>\n",
       "      <th>cast</th>\n",
       "      <th>homepage</th>\n",
       "      <th>director</th>\n",
       "      <th>tagline</th>\n",
       "      <th>keywords</th>\n",
       "      <th>overview</th>\n",
       "      <th>runtime</th>\n",
       "      <th>genres</th>\n",
       "      <th>production_companies</th>\n",
       "      <th>release_date</th>\n",
       "      <th>vote_count</th>\n",
       "      <th>vote_average</th>\n",
       "      <th>release_year</th>\n",
       "      <th>budget_adj</th>\n",
       "      <th>revenue_adj</th>\n",
       "    </tr>\n",
       "  </thead>\n",
       "  <tbody>\n",
       "    <tr>\n",
       "      <th>0</th>\n",
       "      <td>135397</td>\n",
       "      <td>tt0369610</td>\n",
       "      <td>32.985763</td>\n",
       "      <td>150000000</td>\n",
       "      <td>1513528810</td>\n",
       "      <td>Jurassic World</td>\n",
       "      <td>Chris Pratt|Bryce Dallas Howard|Irrfan Khan|Vi...</td>\n",
       "      <td>http://www.jurassicworld.com/</td>\n",
       "      <td>Colin Trevorrow</td>\n",
       "      <td>The park is open.</td>\n",
       "      <td>monster|dna|tyrannosaurus rex|velociraptor|island</td>\n",
       "      <td>Twenty-two years after the events of Jurassic ...</td>\n",
       "      <td>124</td>\n",
       "      <td>Action|Adventure|Science Fiction|Thriller</td>\n",
       "      <td>Universal Studios|Amblin Entertainment|Legenda...</td>\n",
       "      <td>6/9/15</td>\n",
       "      <td>5562</td>\n",
       "      <td>6.5</td>\n",
       "      <td>2015</td>\n",
       "      <td>1.379999e+08</td>\n",
       "      <td>1.392446e+09</td>\n",
       "    </tr>\n",
       "    <tr>\n",
       "      <th>1</th>\n",
       "      <td>76341</td>\n",
       "      <td>tt1392190</td>\n",
       "      <td>28.419936</td>\n",
       "      <td>150000000</td>\n",
       "      <td>378436354</td>\n",
       "      <td>Mad Max: Fury Road</td>\n",
       "      <td>Tom Hardy|Charlize Theron|Hugh Keays-Byrne|Nic...</td>\n",
       "      <td>http://www.madmaxmovie.com/</td>\n",
       "      <td>George Miller</td>\n",
       "      <td>What a Lovely Day.</td>\n",
       "      <td>future|chase|post-apocalyptic|dystopia|australia</td>\n",
       "      <td>An apocalyptic story set in the furthest reach...</td>\n",
       "      <td>120</td>\n",
       "      <td>Action|Adventure|Science Fiction|Thriller</td>\n",
       "      <td>Village Roadshow Pictures|Kennedy Miller Produ...</td>\n",
       "      <td>5/13/15</td>\n",
       "      <td>6185</td>\n",
       "      <td>7.1</td>\n",
       "      <td>2015</td>\n",
       "      <td>1.379999e+08</td>\n",
       "      <td>3.481613e+08</td>\n",
       "    </tr>\n",
       "    <tr>\n",
       "      <th>2</th>\n",
       "      <td>262500</td>\n",
       "      <td>tt2908446</td>\n",
       "      <td>13.112507</td>\n",
       "      <td>110000000</td>\n",
       "      <td>295238201</td>\n",
       "      <td>Insurgent</td>\n",
       "      <td>Shailene Woodley|Theo James|Kate Winslet|Ansel...</td>\n",
       "      <td>http://www.thedivergentseries.movie/#insurgent</td>\n",
       "      <td>Robert Schwentke</td>\n",
       "      <td>One Choice Can Destroy You</td>\n",
       "      <td>based on novel|revolution|dystopia|sequel|dyst...</td>\n",
       "      <td>Beatrice Prior must confront her inner demons ...</td>\n",
       "      <td>119</td>\n",
       "      <td>Adventure|Science Fiction|Thriller</td>\n",
       "      <td>Summit Entertainment|Mandeville Films|Red Wago...</td>\n",
       "      <td>3/18/15</td>\n",
       "      <td>2480</td>\n",
       "      <td>6.3</td>\n",
       "      <td>2015</td>\n",
       "      <td>1.012000e+08</td>\n",
       "      <td>2.716190e+08</td>\n",
       "    </tr>\n",
       "    <tr>\n",
       "      <th>3</th>\n",
       "      <td>140607</td>\n",
       "      <td>tt2488496</td>\n",
       "      <td>11.173104</td>\n",
       "      <td>200000000</td>\n",
       "      <td>2068178225</td>\n",
       "      <td>Star Wars: The Force Awakens</td>\n",
       "      <td>Harrison Ford|Mark Hamill|Carrie Fisher|Adam D...</td>\n",
       "      <td>http://www.starwars.com/films/star-wars-episod...</td>\n",
       "      <td>J.J. Abrams</td>\n",
       "      <td>Every generation has a story.</td>\n",
       "      <td>android|spaceship|jedi|space opera|3d</td>\n",
       "      <td>Thirty years after defeating the Galactic Empi...</td>\n",
       "      <td>136</td>\n",
       "      <td>Action|Adventure|Science Fiction|Fantasy</td>\n",
       "      <td>Lucasfilm|Truenorth Productions|Bad Robot</td>\n",
       "      <td>12/15/15</td>\n",
       "      <td>5292</td>\n",
       "      <td>7.5</td>\n",
       "      <td>2015</td>\n",
       "      <td>1.839999e+08</td>\n",
       "      <td>1.902723e+09</td>\n",
       "    </tr>\n",
       "    <tr>\n",
       "      <th>4</th>\n",
       "      <td>168259</td>\n",
       "      <td>tt2820852</td>\n",
       "      <td>9.335014</td>\n",
       "      <td>190000000</td>\n",
       "      <td>1506249360</td>\n",
       "      <td>Furious 7</td>\n",
       "      <td>Vin Diesel|Paul Walker|Jason Statham|Michelle ...</td>\n",
       "      <td>http://www.furious7.com/</td>\n",
       "      <td>James Wan</td>\n",
       "      <td>Vengeance Hits Home</td>\n",
       "      <td>car race|speed|revenge|suspense|car</td>\n",
       "      <td>Deckard Shaw seeks revenge against Dominic Tor...</td>\n",
       "      <td>137</td>\n",
       "      <td>Action|Crime|Thriller</td>\n",
       "      <td>Universal Pictures|Original Film|Media Rights ...</td>\n",
       "      <td>4/1/15</td>\n",
       "      <td>2947</td>\n",
       "      <td>7.3</td>\n",
       "      <td>2015</td>\n",
       "      <td>1.747999e+08</td>\n",
       "      <td>1.385749e+09</td>\n",
       "    </tr>\n",
       "  </tbody>\n",
       "</table>\n",
       "</div>"
      ],
      "text/plain": [
       "       id    imdb_id  popularity     budget     revenue  \\\n",
       "0  135397  tt0369610   32.985763  150000000  1513528810   \n",
       "1   76341  tt1392190   28.419936  150000000   378436354   \n",
       "2  262500  tt2908446   13.112507  110000000   295238201   \n",
       "3  140607  tt2488496   11.173104  200000000  2068178225   \n",
       "4  168259  tt2820852    9.335014  190000000  1506249360   \n",
       "\n",
       "                 original_title  \\\n",
       "0                Jurassic World   \n",
       "1            Mad Max: Fury Road   \n",
       "2                     Insurgent   \n",
       "3  Star Wars: The Force Awakens   \n",
       "4                     Furious 7   \n",
       "\n",
       "                                                cast  \\\n",
       "0  Chris Pratt|Bryce Dallas Howard|Irrfan Khan|Vi...   \n",
       "1  Tom Hardy|Charlize Theron|Hugh Keays-Byrne|Nic...   \n",
       "2  Shailene Woodley|Theo James|Kate Winslet|Ansel...   \n",
       "3  Harrison Ford|Mark Hamill|Carrie Fisher|Adam D...   \n",
       "4  Vin Diesel|Paul Walker|Jason Statham|Michelle ...   \n",
       "\n",
       "                                            homepage          director  \\\n",
       "0                      http://www.jurassicworld.com/   Colin Trevorrow   \n",
       "1                        http://www.madmaxmovie.com/     George Miller   \n",
       "2     http://www.thedivergentseries.movie/#insurgent  Robert Schwentke   \n",
       "3  http://www.starwars.com/films/star-wars-episod...       J.J. Abrams   \n",
       "4                           http://www.furious7.com/         James Wan   \n",
       "\n",
       "                         tagline  \\\n",
       "0              The park is open.   \n",
       "1             What a Lovely Day.   \n",
       "2     One Choice Can Destroy You   \n",
       "3  Every generation has a story.   \n",
       "4            Vengeance Hits Home   \n",
       "\n",
       "                                            keywords  \\\n",
       "0  monster|dna|tyrannosaurus rex|velociraptor|island   \n",
       "1   future|chase|post-apocalyptic|dystopia|australia   \n",
       "2  based on novel|revolution|dystopia|sequel|dyst...   \n",
       "3              android|spaceship|jedi|space opera|3d   \n",
       "4                car race|speed|revenge|suspense|car   \n",
       "\n",
       "                                            overview  runtime  \\\n",
       "0  Twenty-two years after the events of Jurassic ...      124   \n",
       "1  An apocalyptic story set in the furthest reach...      120   \n",
       "2  Beatrice Prior must confront her inner demons ...      119   \n",
       "3  Thirty years after defeating the Galactic Empi...      136   \n",
       "4  Deckard Shaw seeks revenge against Dominic Tor...      137   \n",
       "\n",
       "                                      genres  \\\n",
       "0  Action|Adventure|Science Fiction|Thriller   \n",
       "1  Action|Adventure|Science Fiction|Thriller   \n",
       "2         Adventure|Science Fiction|Thriller   \n",
       "3   Action|Adventure|Science Fiction|Fantasy   \n",
       "4                      Action|Crime|Thriller   \n",
       "\n",
       "                                production_companies release_date  vote_count  \\\n",
       "0  Universal Studios|Amblin Entertainment|Legenda...       6/9/15        5562   \n",
       "1  Village Roadshow Pictures|Kennedy Miller Produ...      5/13/15        6185   \n",
       "2  Summit Entertainment|Mandeville Films|Red Wago...      3/18/15        2480   \n",
       "3          Lucasfilm|Truenorth Productions|Bad Robot     12/15/15        5292   \n",
       "4  Universal Pictures|Original Film|Media Rights ...       4/1/15        2947   \n",
       "\n",
       "   vote_average  release_year    budget_adj   revenue_adj  \n",
       "0           6.5          2015  1.379999e+08  1.392446e+09  \n",
       "1           7.1          2015  1.379999e+08  3.481613e+08  \n",
       "2           6.3          2015  1.012000e+08  2.716190e+08  \n",
       "3           7.5          2015  1.839999e+08  1.902723e+09  \n",
       "4           7.3          2015  1.747999e+08  1.385749e+09  "
      ]
     },
     "execution_count": 9,
     "metadata": {},
     "output_type": "execute_result"
    }
   ],
   "source": [
    "df.head() #having an over lock on the data frame"
   ]
  },
  {
   "cell_type": "code",
   "execution_count": 10,
   "id": "59282086",
   "metadata": {},
   "outputs": [
    {
     "data": {
      "text/plain": [
       "Index(['id', 'imdb_id', 'popularity', 'budget', 'revenue', 'original_title',\n",
       "       'cast', 'homepage', 'director', 'tagline', 'keywords', 'overview',\n",
       "       'runtime', 'genres', 'production_companies', 'release_date',\n",
       "       'vote_count', 'vote_average', 'release_year', 'budget_adj',\n",
       "       'revenue_adj'],\n",
       "      dtype='object')"
      ]
     },
     "execution_count": 10,
     "metadata": {},
     "output_type": "execute_result"
    }
   ],
   "source": [
    "df.columns #checking the columns name"
   ]
  },
  {
   "cell_type": "code",
   "execution_count": 11,
   "id": "4254b082",
   "metadata": {},
   "outputs": [
    {
     "name": "stdout",
     "output_type": "stream",
     "text": [
      "<class 'pandas.core.frame.DataFrame'>\n",
      "RangeIndex: 10866 entries, 0 to 10865\n",
      "Data columns (total 21 columns):\n",
      " #   Column                Non-Null Count  Dtype  \n",
      "---  ------                --------------  -----  \n",
      " 0   id                    10866 non-null  int64  \n",
      " 1   imdb_id               10856 non-null  object \n",
      " 2   popularity            10866 non-null  float64\n",
      " 3   budget                10866 non-null  int64  \n",
      " 4   revenue               10866 non-null  int64  \n",
      " 5   original_title        10866 non-null  object \n",
      " 6   cast                  10790 non-null  object \n",
      " 7   homepage              2936 non-null   object \n",
      " 8   director              10822 non-null  object \n",
      " 9   tagline               8042 non-null   object \n",
      " 10  keywords              9373 non-null   object \n",
      " 11  overview              10862 non-null  object \n",
      " 12  runtime               10866 non-null  int64  \n",
      " 13  genres                10843 non-null  object \n",
      " 14  production_companies  9836 non-null   object \n",
      " 15  release_date          10866 non-null  object \n",
      " 16  vote_count            10866 non-null  int64  \n",
      " 17  vote_average          10866 non-null  float64\n",
      " 18  release_year          10866 non-null  int64  \n",
      " 19  budget_adj            10866 non-null  float64\n",
      " 20  revenue_adj           10866 non-null  float64\n",
      "dtypes: float64(4), int64(6), object(11)\n",
      "memory usage: 1.3+ MB\n"
     ]
    }
   ],
   "source": [
    "df.info() #getting the date frame info so we have some insight"
   ]
  },
  {
   "cell_type": "markdown",
   "id": "5bd30c77",
   "metadata": {},
   "source": [
    "# data wrangling \n",
    " some columns are not related to our analysis so I will drop them off \n",
    " the columns are ( id, imdb_id, home_page, vote_count, vote_average, tagline, keywords) \n",
    " I will add another column called ratio to help me identifying the successful movies\n",
    " ###### note that \n",
    "- to make the ratio column we will use the revanue_adj and budget_adj so we                               have a fixed worth of dollar across all our movies \n",
    "- when dropping all the rows that have a NAN value the data shape will be reduced from more than 10 thousand to almost 1500 so we will only drop the NAN values of a certain columns when needing to analyze that column"
   ]
  },
  {
   "cell_type": "code",
   "execution_count": 12,
   "id": "2396a45f",
   "metadata": {},
   "outputs": [],
   "source": [
    "df = df.drop(columns=['id', 'imdb_id', 'homepage', 'tagline', 'keywords', 'vote_count', 'vote_average']) # dropping undesirable columns\n",
    "df['ratio'] = df['revenue_adj'] / df['budget_adj'] # this is used to easily identify successful  films from failed films"
   ]
  },
  {
   "cell_type": "code",
   "execution_count": 13,
   "id": "e8c469fd",
   "metadata": {},
   "outputs": [
    {
     "data": {
      "text/html": [
       "<div>\n",
       "<style scoped>\n",
       "    .dataframe tbody tr th:only-of-type {\n",
       "        vertical-align: middle;\n",
       "    }\n",
       "\n",
       "    .dataframe tbody tr th {\n",
       "        vertical-align: top;\n",
       "    }\n",
       "\n",
       "    .dataframe thead th {\n",
       "        text-align: right;\n",
       "    }\n",
       "</style>\n",
       "<table border=\"1\" class=\"dataframe\">\n",
       "  <thead>\n",
       "    <tr style=\"text-align: right;\">\n",
       "      <th></th>\n",
       "      <th>popularity</th>\n",
       "      <th>budget</th>\n",
       "      <th>revenue</th>\n",
       "      <th>original_title</th>\n",
       "      <th>cast</th>\n",
       "      <th>director</th>\n",
       "      <th>overview</th>\n",
       "      <th>runtime</th>\n",
       "      <th>genres</th>\n",
       "      <th>production_companies</th>\n",
       "      <th>release_date</th>\n",
       "      <th>release_year</th>\n",
       "      <th>budget_adj</th>\n",
       "      <th>revenue_adj</th>\n",
       "      <th>ratio</th>\n",
       "    </tr>\n",
       "  </thead>\n",
       "  <tbody>\n",
       "    <tr>\n",
       "      <th>0</th>\n",
       "      <td>32.985763</td>\n",
       "      <td>150000000</td>\n",
       "      <td>1513528810</td>\n",
       "      <td>Jurassic World</td>\n",
       "      <td>Chris Pratt|Bryce Dallas Howard|Irrfan Khan|Vi...</td>\n",
       "      <td>Colin Trevorrow</td>\n",
       "      <td>Twenty-two years after the events of Jurassic ...</td>\n",
       "      <td>124</td>\n",
       "      <td>Action|Adventure|Science Fiction|Thriller</td>\n",
       "      <td>Universal Studios|Amblin Entertainment|Legenda...</td>\n",
       "      <td>6/9/15</td>\n",
       "      <td>2015</td>\n",
       "      <td>1.379999e+08</td>\n",
       "      <td>1.392446e+09</td>\n",
       "      <td>10.090192</td>\n",
       "    </tr>\n",
       "    <tr>\n",
       "      <th>1</th>\n",
       "      <td>28.419936</td>\n",
       "      <td>150000000</td>\n",
       "      <td>378436354</td>\n",
       "      <td>Mad Max: Fury Road</td>\n",
       "      <td>Tom Hardy|Charlize Theron|Hugh Keays-Byrne|Nic...</td>\n",
       "      <td>George Miller</td>\n",
       "      <td>An apocalyptic story set in the furthest reach...</td>\n",
       "      <td>120</td>\n",
       "      <td>Action|Adventure|Science Fiction|Thriller</td>\n",
       "      <td>Village Roadshow Pictures|Kennedy Miller Produ...</td>\n",
       "      <td>5/13/15</td>\n",
       "      <td>2015</td>\n",
       "      <td>1.379999e+08</td>\n",
       "      <td>3.481613e+08</td>\n",
       "      <td>2.522909</td>\n",
       "    </tr>\n",
       "    <tr>\n",
       "      <th>2</th>\n",
       "      <td>13.112507</td>\n",
       "      <td>110000000</td>\n",
       "      <td>295238201</td>\n",
       "      <td>Insurgent</td>\n",
       "      <td>Shailene Woodley|Theo James|Kate Winslet|Ansel...</td>\n",
       "      <td>Robert Schwentke</td>\n",
       "      <td>Beatrice Prior must confront her inner demons ...</td>\n",
       "      <td>119</td>\n",
       "      <td>Adventure|Science Fiction|Thriller</td>\n",
       "      <td>Summit Entertainment|Mandeville Films|Red Wago...</td>\n",
       "      <td>3/18/15</td>\n",
       "      <td>2015</td>\n",
       "      <td>1.012000e+08</td>\n",
       "      <td>2.716190e+08</td>\n",
       "      <td>2.683984</td>\n",
       "    </tr>\n",
       "    <tr>\n",
       "      <th>3</th>\n",
       "      <td>11.173104</td>\n",
       "      <td>200000000</td>\n",
       "      <td>2068178225</td>\n",
       "      <td>Star Wars: The Force Awakens</td>\n",
       "      <td>Harrison Ford|Mark Hamill|Carrie Fisher|Adam D...</td>\n",
       "      <td>J.J. Abrams</td>\n",
       "      <td>Thirty years after defeating the Galactic Empi...</td>\n",
       "      <td>136</td>\n",
       "      <td>Action|Adventure|Science Fiction|Fantasy</td>\n",
       "      <td>Lucasfilm|Truenorth Productions|Bad Robot</td>\n",
       "      <td>12/15/15</td>\n",
       "      <td>2015</td>\n",
       "      <td>1.839999e+08</td>\n",
       "      <td>1.902723e+09</td>\n",
       "      <td>10.340891</td>\n",
       "    </tr>\n",
       "    <tr>\n",
       "      <th>4</th>\n",
       "      <td>9.335014</td>\n",
       "      <td>190000000</td>\n",
       "      <td>1506249360</td>\n",
       "      <td>Furious 7</td>\n",
       "      <td>Vin Diesel|Paul Walker|Jason Statham|Michelle ...</td>\n",
       "      <td>James Wan</td>\n",
       "      <td>Deckard Shaw seeks revenge against Dominic Tor...</td>\n",
       "      <td>137</td>\n",
       "      <td>Action|Crime|Thriller</td>\n",
       "      <td>Universal Pictures|Original Film|Media Rights ...</td>\n",
       "      <td>4/1/15</td>\n",
       "      <td>2015</td>\n",
       "      <td>1.747999e+08</td>\n",
       "      <td>1.385749e+09</td>\n",
       "      <td>7.927628</td>\n",
       "    </tr>\n",
       "  </tbody>\n",
       "</table>\n",
       "</div>"
      ],
      "text/plain": [
       "   popularity     budget     revenue                original_title  \\\n",
       "0   32.985763  150000000  1513528810                Jurassic World   \n",
       "1   28.419936  150000000   378436354            Mad Max: Fury Road   \n",
       "2   13.112507  110000000   295238201                     Insurgent   \n",
       "3   11.173104  200000000  2068178225  Star Wars: The Force Awakens   \n",
       "4    9.335014  190000000  1506249360                     Furious 7   \n",
       "\n",
       "                                                cast          director  \\\n",
       "0  Chris Pratt|Bryce Dallas Howard|Irrfan Khan|Vi...   Colin Trevorrow   \n",
       "1  Tom Hardy|Charlize Theron|Hugh Keays-Byrne|Nic...     George Miller   \n",
       "2  Shailene Woodley|Theo James|Kate Winslet|Ansel...  Robert Schwentke   \n",
       "3  Harrison Ford|Mark Hamill|Carrie Fisher|Adam D...       J.J. Abrams   \n",
       "4  Vin Diesel|Paul Walker|Jason Statham|Michelle ...         James Wan   \n",
       "\n",
       "                                            overview  runtime  \\\n",
       "0  Twenty-two years after the events of Jurassic ...      124   \n",
       "1  An apocalyptic story set in the furthest reach...      120   \n",
       "2  Beatrice Prior must confront her inner demons ...      119   \n",
       "3  Thirty years after defeating the Galactic Empi...      136   \n",
       "4  Deckard Shaw seeks revenge against Dominic Tor...      137   \n",
       "\n",
       "                                      genres  \\\n",
       "0  Action|Adventure|Science Fiction|Thriller   \n",
       "1  Action|Adventure|Science Fiction|Thriller   \n",
       "2         Adventure|Science Fiction|Thriller   \n",
       "3   Action|Adventure|Science Fiction|Fantasy   \n",
       "4                      Action|Crime|Thriller   \n",
       "\n",
       "                                production_companies release_date  \\\n",
       "0  Universal Studios|Amblin Entertainment|Legenda...       6/9/15   \n",
       "1  Village Roadshow Pictures|Kennedy Miller Produ...      5/13/15   \n",
       "2  Summit Entertainment|Mandeville Films|Red Wago...      3/18/15   \n",
       "3          Lucasfilm|Truenorth Productions|Bad Robot     12/15/15   \n",
       "4  Universal Pictures|Original Film|Media Rights ...       4/1/15   \n",
       "\n",
       "   release_year    budget_adj   revenue_adj      ratio  \n",
       "0          2015  1.379999e+08  1.392446e+09  10.090192  \n",
       "1          2015  1.379999e+08  3.481613e+08   2.522909  \n",
       "2          2015  1.012000e+08  2.716190e+08   2.683984  \n",
       "3          2015  1.839999e+08  1.902723e+09  10.340891  \n",
       "4          2015  1.747999e+08  1.385749e+09   7.927628  "
      ]
     },
     "execution_count": 13,
     "metadata": {},
     "output_type": "execute_result"
    }
   ],
   "source": [
    "df.head()"
   ]
  },
  {
   "cell_type": "markdown",
   "id": "ae00ba61",
   "metadata": {},
   "source": [
    "# analysis question 1: which most popular genre for each year\n",
    "### grouping the data by the year"
   ]
  },
  {
   "cell_type": "code",
   "execution_count": 14,
   "id": "31d99456",
   "metadata": {},
   "outputs": [],
   "source": [
    "grp_df = exploder(df, 'genres', '|').dropna(subset=['popularity', 'genres']).groupby('release_year') #exploding the successful  in genres columns and dropping the NAN in popularity and grouping by the release year"
   ]
  },
  {
   "cell_type": "markdown",
   "id": "7a882f28",
   "metadata": {},
   "source": [
    "### looping through each year getting the highest popularity"
   ]
  },
  {
   "cell_type": "code",
   "execution_count": 15,
   "id": "8658c52c",
   "metadata": {
    "scrolled": true
   },
   "outputs": [],
   "source": [
    "genres_df = pd.DataFrame(columns=['release_year', 'genres']) #creating the genres_df that have the highest popularity genres for each year\n",
    "for year in df['release_year'].unique():\n",
    "    genres_df = genres_df.append(grp_df.get_group(year).nlargest(1, columns=['popularity'])[['genres', 'release_year']])\n"
   ]
  },
  {
   "cell_type": "markdown",
   "id": "0cea4de5",
   "metadata": {},
   "source": [
    "### sorting the years in a descending order so it doesn’t become missy when plotting and resetting the original indexing and then deleting it"
   ]
  },
  {
   "cell_type": "code",
   "execution_count": 16,
   "id": "2f03a5ea",
   "metadata": {},
   "outputs": [],
   "source": [
    "genres_df = genres_df.sort_values(by=['release_year'], ascending=[True]) #sorting the data from 1960 to 2015 in a ascending order\n",
    "genres_df = genres_df.reset_index()\n",
    "genres_df = genres_df.drop(columns=['index'])"
   ]
  },
  {
   "cell_type": "markdown",
   "id": "26615eb0",
   "metadata": {},
   "source": [
    "### checking the genres data frame"
   ]
  },
  {
   "cell_type": "code",
   "execution_count": 17,
   "id": "295e86e5",
   "metadata": {},
   "outputs": [
    {
     "data": {
      "text/html": [
       "<div>\n",
       "<style scoped>\n",
       "    .dataframe tbody tr th:only-of-type {\n",
       "        vertical-align: middle;\n",
       "    }\n",
       "\n",
       "    .dataframe tbody tr th {\n",
       "        vertical-align: top;\n",
       "    }\n",
       "\n",
       "    .dataframe thead th {\n",
       "        text-align: right;\n",
       "    }\n",
       "</style>\n",
       "<table border=\"1\" class=\"dataframe\">\n",
       "  <thead>\n",
       "    <tr style=\"text-align: right;\">\n",
       "      <th></th>\n",
       "      <th>release_year</th>\n",
       "      <th>genres</th>\n",
       "    </tr>\n",
       "  </thead>\n",
       "  <tbody>\n",
       "    <tr>\n",
       "      <th>0</th>\n",
       "      <td>1960</td>\n",
       "      <td>Drama</td>\n",
       "    </tr>\n",
       "    <tr>\n",
       "      <th>1</th>\n",
       "      <td>1961</td>\n",
       "      <td>Adventure</td>\n",
       "    </tr>\n",
       "    <tr>\n",
       "      <th>2</th>\n",
       "      <td>1962</td>\n",
       "      <td>Adventure</td>\n",
       "    </tr>\n",
       "    <tr>\n",
       "      <th>3</th>\n",
       "      <td>1963</td>\n",
       "      <td>Action</td>\n",
       "    </tr>\n",
       "    <tr>\n",
       "      <th>4</th>\n",
       "      <td>1964</td>\n",
       "      <td>Adventure</td>\n",
       "    </tr>\n",
       "  </tbody>\n",
       "</table>\n",
       "</div>"
      ],
      "text/plain": [
       "  release_year     genres\n",
       "0         1960      Drama\n",
       "1         1961  Adventure\n",
       "2         1962  Adventure\n",
       "3         1963     Action\n",
       "4         1964  Adventure"
      ]
     },
     "execution_count": 17,
     "metadata": {},
     "output_type": "execute_result"
    }
   ],
   "source": [
    "genres_df.head()"
   ]
  },
  {
   "cell_type": "markdown",
   "id": "dac85406",
   "metadata": {},
   "source": [
    "### plotting each year and the correspondent highest popularity genre in it\n",
    "`note that`\n",
    "- on the x_axis we will only put the last two digits of the year so it numbers doesn’t overlap\n"
   ]
  },
  {
   "cell_type": "code",
   "execution_count": 18,
   "id": "ab7dd6ae",
   "metadata": {},
   "outputs": [
    {
     "data": {
      "image/png": "[encoded data removed]",
      "text/plain": [
       "<Figure size 1080x864 with 1 Axes>"
      ]
     },
     "metadata": {},
     "output_type": "display_data"
    }
   ],
   "source": [
    "plt_1 = plt.figure(figsize=(15, 12)) # ascending  the fig size \n",
    "small_year = [str(x)[-2:] for x in genres_df['release_year']] #getting only the last two digits of the year for the plot\n",
    "plt.scatter(small_year, genres_df['genres'])\n",
    "plt.title('most popular genras each year'.capitalize())\n",
    "plt.xlabel('the year'.capitalize())\n",
    "plt.ylabel('the genra'.capitalize())\n",
    "plt.show()"
   ]
  },
  {
   "cell_type": "markdown",
   "id": "f42ce116",
   "metadata": {},
   "source": [
    "## and for more insight we could make a pie chart to see which genres was most popular throughout all those years "
   ]
  },
  {
   "cell_type": "code",
   "execution_count": 19,
   "id": "897c5df0",
   "metadata": {},
   "outputs": [
    {
     "data": {
      "text/plain": [
       "Adventure          17\n",
       "Action             10\n",
       "Drama               6\n",
       "Animation           5\n",
       "Science Fiction     5\n",
       "Crime               3\n",
       "Horror              2\n",
       "Romance             2\n",
       "Comedy              2\n",
       "Family              1\n",
       "Music               1\n",
       "Thriller            1\n",
       "Fantasy             1\n",
       "Name: genres, dtype: int64"
      ]
     },
     "execution_count": 19,
     "metadata": {},
     "output_type": "execute_result"
    }
   ],
   "source": [
    "genres_df['genres'].value_counts()"
   ]
  },
  {
   "cell_type": "code",
   "execution_count": 20,
   "id": "b7124369",
   "metadata": {},
   "outputs": [
    {
     "data": {
      "text/html": [
       "<div>\n",
       "<style scoped>\n",
       "    .dataframe tbody tr th:only-of-type {\n",
       "        vertical-align: middle;\n",
       "    }\n",
       "\n",
       "    .dataframe tbody tr th {\n",
       "        vertical-align: top;\n",
       "    }\n",
       "\n",
       "    .dataframe thead th {\n",
       "        text-align: right;\n",
       "    }\n",
       "</style>\n",
       "<table border=\"1\" class=\"dataframe\">\n",
       "  <thead>\n",
       "    <tr style=\"text-align: right;\">\n",
       "      <th></th>\n",
       "      <th>genres</th>\n",
       "    </tr>\n",
       "  </thead>\n",
       "  <tbody>\n",
       "    <tr>\n",
       "      <th>Adventure</th>\n",
       "      <td>17</td>\n",
       "    </tr>\n",
       "    <tr>\n",
       "      <th>Action</th>\n",
       "      <td>10</td>\n",
       "    </tr>\n",
       "    <tr>\n",
       "      <th>Drama</th>\n",
       "      <td>6</td>\n",
       "    </tr>\n",
       "    <tr>\n",
       "      <th>Animation</th>\n",
       "      <td>5</td>\n",
       "    </tr>\n",
       "    <tr>\n",
       "      <th>Science Fiction</th>\n",
       "      <td>5</td>\n",
       "    </tr>\n",
       "    <tr>\n",
       "      <th>Crime</th>\n",
       "      <td>3</td>\n",
       "    </tr>\n",
       "    <tr>\n",
       "      <th>Horror</th>\n",
       "      <td>2</td>\n",
       "    </tr>\n",
       "    <tr>\n",
       "      <th>Romance</th>\n",
       "      <td>2</td>\n",
       "    </tr>\n",
       "    <tr>\n",
       "      <th>Comedy</th>\n",
       "      <td>2</td>\n",
       "    </tr>\n",
       "    <tr>\n",
       "      <th>Family</th>\n",
       "      <td>1</td>\n",
       "    </tr>\n",
       "    <tr>\n",
       "      <th>Music</th>\n",
       "      <td>1</td>\n",
       "    </tr>\n",
       "    <tr>\n",
       "      <th>Thriller</th>\n",
       "      <td>1</td>\n",
       "    </tr>\n",
       "    <tr>\n",
       "      <th>Fantasy</th>\n",
       "      <td>1</td>\n",
       "    </tr>\n",
       "  </tbody>\n",
       "</table>\n",
       "</div>"
      ],
      "text/plain": [
       "                 genres\n",
       "Adventure            17\n",
       "Action               10\n",
       "Drama                 6\n",
       "Animation             5\n",
       "Science Fiction       5\n",
       "Crime                 3\n",
       "Horror                2\n",
       "Romance               2\n",
       "Comedy                2\n",
       "Family                1\n",
       "Music                 1\n",
       "Thriller              1\n",
       "Fantasy               1"
      ]
     },
     "execution_count": 20,
     "metadata": {},
     "output_type": "execute_result"
    }
   ],
   "source": [
    "pie_df = pd.DataFrame(genres_df['genres'].value_counts())\n",
    "pie_df"
   ]
  },
  {
   "cell_type": "code",
   "execution_count": 21,
   "id": "e2286d8b",
   "metadata": {},
   "outputs": [
    {
     "data": {
      "image/png": "[encoded data removed]",
      "text/plain": [
       "<Figure size 576x396 with 1 Axes>"
      ]
     },
     "metadata": {},
     "output_type": "display_data"
    }
   ],
   "source": [
    "plot_pie(pie_df['genres'], pie_df['genres'].index)"
   ]
  },
  {
   "cell_type": "markdown",
   "id": "b9164295",
   "metadata": {},
   "source": [
    "# analysis question 2: which factors affect the success or a failure of a movie and what is its percent\n",
    "### studying another factors to know which effect the success of a movie"
   ]
  },
  {
   "cell_type": "code",
   "execution_count": 22,
   "id": "88cbb639",
   "metadata": {},
   "outputs": [
    {
     "data": {
      "text/plain": [
       "Index(['popularity', 'budget', 'revenue', 'original_title', 'cast', 'director',\n",
       "       'overview', 'runtime', 'genres', 'production_companies', 'release_date',\n",
       "       'release_year', 'budget_adj', 'revenue_adj', 'ratio'],\n",
       "      dtype='object')"
      ]
     },
     "execution_count": 22,
     "metadata": {},
     "output_type": "execute_result"
    }
   ],
   "source": [
    "df.columns"
   ]
  },
  {
   "cell_type": "markdown",
   "id": "5e203948",
   "metadata": {},
   "source": [
    "### getting data frames for successful movies and failed movies\n",
    "    on this analysis I will assume the movie is successful if it had gained revenue that is double its budget\n",
    "                    (successful movies = high_rev_df)     (failed movies = low_rev_df)\n"
   ]
  },
  {
   "cell_type": "code",
   "execution_count": 23,
   "id": "eb94ffee",
   "metadata": {
    "scrolled": false
   },
   "outputs": [],
   "source": [
    "high_rev_df, low_rev_df = spliting_high_low(df, 'ratio', 2) # splitting the data frame into two successful and not successful movies \n"
   ]
  },
  {
   "cell_type": "markdown",
   "id": "9435fc84",
   "metadata": {},
   "source": [
    "# the properties we will discuss are \n",
    "- 1) director\n",
    "- 2) cast\n",
    "- 3) production company\n",
    "- 4) the movie budget\n"
   ]
  },
  {
   "cell_type": "markdown",
   "id": "c845cff7",
   "metadata": {},
   "source": [
    "### first property we will discuss is the director \n",
    " to find whether or not a director has an influence on the success of a movie first we will see if there are directors in our list that had been in both successful and failed movies ...\n",
    "<br>if not then it's crystal clear that directors affect the movie success and failure ... and if true then we will start analyze that portion to find the percentage of effectiveness\n"
   ]
  },
  {
   "cell_type": "code",
   "execution_count": 24,
   "id": "cfcd7edc",
   "metadata": {},
   "outputs": [
    {
     "data": {
      "text/plain": [
       "806"
      ]
     },
     "execution_count": 24,
     "metadata": {},
     "output_type": "execute_result"
    }
   ],
   "source": [
    "num_composed_directors = get_composed_num(high_rev_df, low_rev_df, 'director', sep='|')\n",
    "num_composed_directors"
   ]
  },
  {
   "cell_type": "code",
   "execution_count": 25,
   "id": "185c809c",
   "metadata": {},
   "outputs": [
    {
     "data": {
      "text/plain": [
       "5067"
      ]
     },
     "execution_count": 25,
     "metadata": {},
     "output_type": "execute_result"
    }
   ],
   "source": [
    "num_total_directors = get_total_num(df, 'director')\n",
    "num_total_directors"
   ]
  },
  {
   "cell_type": "code",
   "execution_count": 26,
   "id": "146fd95d",
   "metadata": {},
   "outputs": [
    {
     "data": {
      "text/plain": [
       "84.1"
      ]
     },
     "execution_count": 26,
     "metadata": {},
     "output_type": "execute_result"
    }
   ],
   "source": [
    "director_eff_percentage = 100 - ratio(num_composed_directors, num_total_directors)\n",
    "director_eff_percentage"
   ]
  },
  {
   "cell_type": "markdown",
   "id": "86905165",
   "metadata": {},
   "source": [
    "## as we see there is a number of directors that have been in both successful and unsuccessful movies \n",
    "- the number of composed director divided by the number of the total directors will give us the percentage of how directors doesn’t effect the success of a movie and if we subtracted it from 1 we will get the percentage of how much directors effect the success of a movie"
   ]
  },
  {
   "cell_type": "code",
   "execution_count": 27,
   "id": "f0890cee",
   "metadata": {},
   "outputs": [
    {
     "data": {
      "image/png": "[encoded data removed]",
      "text/plain": [
       "<Figure size 576x396 with 1 Axes>"
      ]
     },
     "metadata": {},
     "output_type": "display_data"
    }
   ],
   "source": [
    "percentage = [director_eff_percentage, 100-director_eff_percentage] #we sub from 100 cause nums are in a percentage form\n",
    "labels = ['Director Effectiveness', 'Director Ineffectiveness']\n",
    "title = 'Percentage of How directors effect the success or the fail of the a movie'.capitalize()\n",
    "\n",
    "plot_pie(percentage, labels, title_=title)"
   ]
  },
  {
   "cell_type": "markdown",
   "id": "d002d116",
   "metadata": {},
   "source": [
    "# the next factor that we will focus on is the cast \n",
    "<br> we will check the number of actors that have been in both success and failed movies to determine the portion that the cast provide to the success of a movie \n",
    "<br> `note that`\n",
    "- the cast names are combined in one column separated by a '|' so we will handle this while creating both of our lists\n",
    "- we will drop the NAN rows prior to looping making the data clean for looping (we will not drop it permanently)\n"
   ]
  },
  {
   "cell_type": "code",
   "execution_count": 28,
   "id": "b671a2be",
   "metadata": {},
   "outputs": [
    {
     "data": {
      "text/plain": [
       "2866"
      ]
     },
     "execution_count": 28,
     "metadata": {},
     "output_type": "execute_result"
    }
   ],
   "source": [
    "num_composed_actors = get_composed_num(high_rev_df, low_rev_df, 'cast', sep='|')\n",
    "num_composed_actors"
   ]
  },
  {
   "cell_type": "code",
   "execution_count": 29,
   "id": "2ad03336",
   "metadata": {},
   "outputs": [
    {
     "data": {
      "text/plain": [
       "19026"
      ]
     },
     "execution_count": 29,
     "metadata": {},
     "output_type": "execute_result"
    }
   ],
   "source": [
    "num_total_actors = get_total_num(df, 'cast', '|')\n",
    "num_total_actors"
   ]
  },
  {
   "cell_type": "code",
   "execution_count": 30,
   "id": "02c8edbc",
   "metadata": {},
   "outputs": [
    {
     "data": {
      "text/plain": [
       "84.9"
      ]
     },
     "execution_count": 30,
     "metadata": {},
     "output_type": "execute_result"
    }
   ],
   "source": [
    "actor_eff_percentage = 100 - ratio(num_composed_actors, num_total_actors)\n",
    "actor_eff_percentage"
   ]
  },
  {
   "cell_type": "code",
   "execution_count": 31,
   "id": "8fec96cd",
   "metadata": {},
   "outputs": [
    {
     "data": {
      "image/png": "[encoded data removed]",
      "text/plain": [
       "<Figure size 576x396 with 1 Axes>"
      ]
     },
     "metadata": {},
     "output_type": "display_data"
    }
   ],
   "source": [
    "percentage = [actor_eff_percentage, 100-actor_eff_percentage]\n",
    "labels = ['actor effectiveness', 'actor ineffectiveness']\n",
    "title = 'percentage of how actors effect the success of a movie'.capitalize()\n",
    "colors=['#49B6FE','#EDFE49']\n",
    "plot_pie(percentage, labels, colors, title)\n"
   ]
  },
  {
   "cell_type": "markdown",
   "id": "31bbeaa6",
   "metadata": {},
   "source": [
    "#### actor’s percentage in making a movie successful is 84.94%\n",
    "# the third aspect is the production company \n",
    "we will do the same that we did with actors "
   ]
  },
  {
   "cell_type": "code",
   "execution_count": 32,
   "id": "cc35bfe5",
   "metadata": {},
   "outputs": [
    {
     "data": {
      "text/plain": [
       "1113"
      ]
     },
     "execution_count": 32,
     "metadata": {},
     "output_type": "execute_result"
    }
   ],
   "source": [
    "# pc --> production companied\n",
    "composed_PC_num = (get_composed_num(high_rev_df, low_rev_df, 'production_companies', sep='|'))\n",
    "composed_PC_num"
   ]
  },
  {
   "cell_type": "code",
   "execution_count": 33,
   "id": "e9e4caf8",
   "metadata": {},
   "outputs": [
    {
     "data": {
      "text/plain": [
       "7879"
      ]
     },
     "execution_count": 33,
     "metadata": {},
     "output_type": "execute_result"
    }
   ],
   "source": [
    "total_pc_num = get_total_num(df, 'production_companies', '|')\n",
    "total_pc_num"
   ]
  },
  {
   "cell_type": "code",
   "execution_count": 34,
   "id": "24684eb8",
   "metadata": {},
   "outputs": [
    {
     "data": {
      "text/plain": [
       "85.9"
      ]
     },
     "execution_count": 34,
     "metadata": {},
     "output_type": "execute_result"
    }
   ],
   "source": [
    "pc_effectiveness = 100 - ratio(composed_PC_num, total_pc_num)\n",
    "pc_effectiveness"
   ]
  },
  {
   "cell_type": "code",
   "execution_count": 35,
   "id": "fc662054",
   "metadata": {},
   "outputs": [
    {
     "data": {
      "image/png": "[encoded data removed]",
      "text/plain": [
       "<Figure size 576x396 with 1 Axes>"
      ]
     },
     "metadata": {},
     "output_type": "display_data"
    }
   ],
   "source": [
    "percentage = [pc_effectiveness, 100-pc_effectiveness]\n",
    "labels = ['production Company effectiveness', 'production company ineffectiveness']\n",
    "title = 'percentage of how production company effect the success of a movie'.capitalize()\n",
    "plot_pie(percentage, labels, colors, title)"
   ]
  },
  {
   "cell_type": "markdown",
   "id": "b216de41",
   "metadata": {},
   "source": [
    "### the success percentage that a production company gives is 85.9\n",
    "## fourth factor we will discuss is the budget factor"
   ]
  },
  {
   "cell_type": "code",
   "execution_count": 36,
   "id": "25a307b4",
   "metadata": {},
   "outputs": [],
   "source": [
    "# here we will use the mean not the median because more than half of the data having budget_adj of 0.0 so using the median\n",
    "# will give us 0.0 which doesn’t help in separating the movies to a high budget df and a low budget df \n",
    "high_budget_high_rev, low_budget_high_rev = spliting_high_low(high_rev_df, 'budget_adj')\n",
    "\n",
    "\n",
    "high_budget_low_rev, low_budget_low_rev = spliting_high_low(low_rev_df, 'budget_adj')\n"
   ]
  },
  {
   "cell_type": "code",
   "execution_count": 37,
   "id": "230b0b62",
   "metadata": {},
   "outputs": [
    {
     "name": "stdout",
     "output_type": "stream",
     "text": [
      "67.7\n",
      "32.3\n",
      "65.3\n",
      "34.7\n"
     ]
    }
   ],
   "source": [
    "\n",
    "ratio_high_budget_sucess = 100 - ratio(len(high_budget_high_rev), len(high_rev_df))\n",
    "ratio_high_budget_fail = 100 - ratio(len(high_budget_low_rev), len(low_rev_df))\n",
    "ratio_low_budget_sucess = 100 - ratio(len(low_budget_high_rev), len(high_rev_df))\n",
    "ratio_low_budget_fail = 100 - ratio(len(low_budget_low_rev), len(low_rev_df))\n",
    "\n",
    "\n",
    "print(ratio_high_budget_sucess)\n",
    "print(ratio_low_budget_sucess)\n",
    "\n",
    "print(ratio_high_budget_fail)\n",
    "print(ratio_low_budget_fail)"
   ]
  },
  {
   "cell_type": "code",
   "execution_count": 38,
   "id": "46b170eb",
   "metadata": {},
   "outputs": [
    {
     "data": {
      "image/png": "[encoded data removed]",
      "text/plain": [
       "<Figure size 144x360 with 1 Axes>"
      ]
     },
     "metadata": {},
     "output_type": "display_data"
    }
   ],
   "source": [
    "plt_1 = plt.figure(figsize=(2, 5))\n",
    "x_label = ['high_budget', 'low_budget']\n",
    "y_label = [ratio_high_budget_sucess, ratio_low_budget_sucess]\n",
    "plt.bar(x_label, y_label, color = colors, alpha=0.9, width=0.5)\n",
    "plt.title('succefull movies budget effection percent'.capitalize())\n",
    "plt.xlabel('Budget Type')\n",
    "plt.ylabel('percentage')\n",
    "plt.show()"
   ]
  },
  {
   "cell_type": "markdown",
   "id": "31bac8c5",
   "metadata": {},
   "source": [
    "- as we see that movies with high budget have better chance to be successful ... but this is a false claim cause for low budget we will find the movies with high budget have the almost percentage to fail  "
   ]
  },
  {
   "cell_type": "code",
   "execution_count": 39,
   "id": "e446f0bc",
   "metadata": {},
   "outputs": [
    {
     "data": {
      "image/png": "[encoded data removed]",
      "text/plain": [
       "<Figure size 144x360 with 1 Axes>"
      ]
     },
     "metadata": {},
     "output_type": "display_data"
    }
   ],
   "source": [
    "plt_1 = plt.figure(figsize=(2, 5))\n",
    "x_label = ['high_budget', 'low_budget']\n",
    "y_label = [ratio_high_budget_fail, ratio_low_budget_fail]\n",
    "plt.bar(x_label, y_label, color = colors, alpha=0.9, width=0.5)\n",
    "plt.title('failuer movies budget effection percent'.capitalize())\n",
    "plt.xlabel('Budget Type')\n",
    "plt.ylabel('percentage')\n",
    "plt.show()"
   ]
  },
  {
   "cell_type": "markdown",
   "id": "aa2e63bd",
   "metadata": {},
   "source": [
    "- and as we see movies with high budget have almost the same probability to success and fail and so on for low budgets i.e. the budget doesn’t affect  the successfulness or failure of a movie"
   ]
  },
  {
   "cell_type": "code",
   "execution_count": 40,
   "id": "1372ef21",
   "metadata": {},
   "outputs": [
    {
     "data": {
      "image/png": "[encoded data removed]",
      "text/plain": [
       "<Figure size 576x396 with 1 Axes>"
      ]
     },
     "metadata": {},
     "output_type": "display_data"
    }
   ],
   "source": [
    "\n",
    "x_labels = [1, 3, 5, 7]\n",
    "y_labels = [ratio_high_budget_sucess, ratio_high_budget_fail, ratio_low_budget_sucess, ratio_low_budget_fail]\n",
    "\n",
    "plt.bar(x_labels[0:2], y_labels[0:2], color=[colors[0], colors[0]], alpha=0.9, label='high budget')\n",
    "plt.bar(x_labels[2:], y_labels[2:], color=[colors[1], colors[1]], alpha=0.9, label='low budget')\n",
    "\n",
    "plt.xticks(x_labels, ['success', 'fail', 'success', 'fail'])\n",
    "plt.xlabel('Aspect')\n",
    "plt.ylabel('the percentage')\n",
    "plt.title('effectiveness of high budgets and low budgets in succession or failing a movie'.capitalize())\n",
    "plt.legend()\n",
    "plt.show()"
   ]
  },
  {
   "cell_type": "markdown",
   "id": "4c95b66a",
   "metadata": {},
   "source": [
    "# finally \n",
    "### we will plot the factors that effects the success of a movie and the percentage of it"
   ]
  },
  {
   "cell_type": "code",
   "execution_count": 41,
   "id": "2b1eddfe",
   "metadata": {
    "scrolled": true
   },
   "outputs": [
    {
     "data": {
      "image/png": "[encoded data removed]",
      "text/plain": [
       "<Figure size 360x360 with 1 Axes>"
      ]
     },
     "metadata": {},
     "output_type": "display_data"
    }
   ],
   "source": [
    "plt_1 = plt.figure(figsize=(5, 5))\n",
    "x_labels = ['director', 'cast', 'production company']\n",
    "y_labels = [director_eff_percentage, actor_eff_percentage, pc_effectiveness]\n",
    "colors = ['#33FF99', '#A233FF', '#33B8FF']\n",
    "plt.bar(x_labels, y_labels, color=colors, alpha=0.9, width=0.5)\n",
    "plt.title('the percentage of how much a factor could make a movie successful'.capitalize())\n",
    "plt.xlabel('--  Factor  --')\n",
    "plt.ylabel('The Percentage')\n",
    "plt.show()"
   ]
  },
  {
   "cell_type": "markdown",
   "id": "38d3658b",
   "metadata": {},
   "source": [
    "## to display the effect more clearly we will use a pie char "
   ]
  },
  {
   "cell_type": "code",
   "execution_count": 42,
   "id": "16a89b5d",
   "metadata": {},
   "outputs": [
    {
     "data": {
      "image/png": "[encoded data removed]",
      "text/plain": [
       "<Figure size 576x396 with 1 Axes>"
      ]
     },
     "metadata": {},
     "output_type": "display_data"
    }
   ],
   "source": [
    "percentage = [director_eff_percentage, actor_eff_percentage, pc_effectiveness]\n",
    "labels = ['director', 'cast', 'production company'] \n",
    "title = 'the percentage of how much a factor could make a movie succesfull'.capitalize()\n",
    "plot_pie(percentage, labels, colors, title)"
   ]
  },
  {
   "cell_type": "markdown",
   "id": "cf2e9b6b",
   "metadata": {},
   "source": [
    "# conclusion "
   ]
  },
  {
   "cell_type": "markdown",
   "id": "4e6e5a58",
   "metadata": {},
   "source": [
    "- as we have seen above there were 13 genres of movies that was most popular each year from 1960 to 2015 ... it's clear that some genres make it most popular almost one year like (fantasy & thrill) and other dominates for 10 years or more like (adventure & action) and in both the scatter plot and the pie chart all if that is explained \n",
    "\n",
    "- in the analysis of which factor effect the success of a movie or not we have exploited the data of 4 aspects (director, cast, production company, budget) and we have seen that budget doesn’t have at least a reasonable amount of effect that we could address so we have neglected it ... and for the other 3 aspects as seen in the pie chart above that the affection percentage doesn’t vary a lot from one aspect to another \n",
    "\n",
    "- the limitation of the analysis that other factors could be measured alone like the duration of the movie or the (month or season) of release and we could even combine two aspects and analyze their effect like a certain cast at a specific years or multiple years or even the genre correspondent to the current events at the world like did a type of movies become more popular after an event like 9-11 or even did the movies about sci-fi and viruses become more popular after corona and so on\n"
   ]
  }
 ],
 "metadata": {
  "kernelspec": {
   "display_name": "Python 3 (ipykernel)",
   "language": "python",
   "name": "python3"
  },
  "language_info": {
   "codemirror_mode": {
    "name": "ipython",
    "version": 3
   },
   "file_extension": ".py",
   "mimetype": "text/x-python",
   "name": "python",
   "nbconvert_exporter": "python",
   "pygments_lexer": "ipython3",
   "version": "3.7.2"
  }
 },
 "nbformat": 4,
 "nbformat_minor": 5
}
